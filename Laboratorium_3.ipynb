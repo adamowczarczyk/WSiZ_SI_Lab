{
 "cells": [
  {
   "cell_type": "code",
   "execution_count": null,
   "metadata": {},
   "outputs": [],
   "source": [
    "from sklearn.linear_model import LinearRegression\n",
    "from sklearn.datasets import load_boston\n",
    "import matplotlib.pyplot as plt\n",
    "\n",
    "# Stworzenie regresora liniowego\n",
    "linreg = LinearRegression()\n",
    "\n",
    "# Wczytanie zbioru cech nieruchomości i ich cen\n",
    "boston_nieruchomosci = load_boston()\n",
    "\n",
    "print('Klucze dostępne w zbiorze danych: ', boston_nieruchomosci.keys())\n",
    "print(boston_nieruchomosci.DESCR)\n"
   ]
  },
  {
   "cell_type": "code",
   "execution_count": null,
   "metadata": {},
   "outputs": [],
   "source": [
    "print('Przykładowe wartości cech:\\n', boston_nieruchomosci.data[:3])\n",
    "print('Przykładowe kwoty: ', boston_nieruchomosci.target[:3])"
   ]
  },
  {
   "cell_type": "code",
   "execution_count": null,
   "metadata": {},
   "outputs": [],
   "source": [
    "import matplotlib.pyplot as plt\n",
    "import pandas as pd\n",
    "import numpy as np\n",
    "%matplotlib inline\n",
    "\n",
    "import seaborn as sns\n",
    "\n",
    "# konwersja na obiekt pandas.DataFrame\n",
    "boston_df = pd.DataFrame(boston_nieruchomosci['data'], columns=boston_nieruchomosci['feature_names'])\n",
    "\n",
    "# doklejenie informacji o cenie do reszty dataframe\n",
    "boston_df['target'] = np.array(list(boston_nieruchomosci['target']))\n",
    "\n",
    "# wykres\n",
    "sns.pairplot(boston_df)\n",
    "plt.show()"
   ]
  },
  {
   "cell_type": "code",
   "execution_count": null,
   "metadata": {},
   "outputs": [],
   "source": [
    "from sklearn.model_selection import train_test_split\n",
    "\n",
    "X_train, X_test, y_train, y_test = train_test_split(boston_nieruchomosci.data, boston_nieruchomosci.target, test_size = 0.3)\n",
    "\n",
    "linreg.fit(X_train, y_train)\n",
    "\n",
    "# przewidywanie ceny\n",
    "y_pred = linreg.predict(X_test)\n",
    "\n",
    "# wskaźnik (metryka) r^2\n",
    "print(linreg.score(X_test, y_test))\n",
    "\n",
    "# Wykres regresji\n",
    "plt.scatter(y_test, y_pred)\n",
    "plt.show()"
   ]
  },
  {
   "cell_type": "code",
   "execution_count": null,
   "metadata": {},
   "outputs": [],
   "source": [
    "from sklearn.model_selection import cross_val_score\n",
    "\n",
    "cv_score = cross_val_score(linreg, boston_nieruchomosci.data, boston_nieruchomosci.target, cv=5)\n",
    "\n",
    "print(cv_score)"
   ]
  }
 ],
 "metadata": {
  "kernelspec": {
   "display_name": "Python 3",
   "language": "python",
   "name": "python3"
  },
  "language_info": {
   "codemirror_mode": {
    "name": "ipython",
    "version": 3
   },
   "file_extension": ".py",
   "mimetype": "text/x-python",
   "name": "python",
   "nbconvert_exporter": "python",
   "pygments_lexer": "ipython3",
   "version": "3.7.5"
  }
 },
 "nbformat": 4,
 "nbformat_minor": 2
}
