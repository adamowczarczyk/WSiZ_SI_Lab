{
 "cells": [
  {
   "cell_type": "code",
   "execution_count": null,
   "metadata": {},
   "outputs": [],
   "source": [
    "from sklearn.datasets import load_boston\n",
    "import matplotlib.pyplot as plt\n",
    "%matplotlib inline\n",
    "\n",
    "# Wczytanie zbioru cech nieruchomości i ich cen\n",
    "boston_nieruchomosci = load_boston()\n",
    "\n",
    "print('Klucze dostępne w zbiorze danych: ', boston_nieruchomosci.keys())\n",
    "print(boston_nieruchomosci.DESCR)\n"
   ]
  },
  {
   "cell_type": "code",
   "execution_count": null,
   "metadata": {},
   "outputs": [],
   "source": [
    "print('Przykładowe wartości cech:\\n', boston_nieruchomosci.data[:3])\n",
    "print('Przykładowe kwoty: ', boston_nieruchomosci.target[:3])"
   ]
  },
  {
   "cell_type": "code",
   "execution_count": null,
   "metadata": {},
   "outputs": [],
   "source": [
    "import matplotlib.pyplot as plt\n",
    "import pandas as pd\n",
    "import numpy as np\n",
    "%matplotlib inline\n",
    "\n",
    "import seaborn as sns\n",
    "\n",
    "# konwersja na obiekt pandas.DataFrame\n",
    "boston_df = pd.DataFrame(boston_nieruchomosci['data'], columns=boston_nieruchomosci['feature_names'])\n",
    "\n",
    "# doklejenie informacji o cenie do reszty dataframe\n",
    "boston_df['target'] = np.array(list(boston_nieruchomosci['target']))\n",
    "\n",
    "# wykres\n",
    "sns.pairplot(boston_df)\n",
    "plt.show()"
   ]
  },
  {
   "cell_type": "code",
   "execution_count": null,
   "metadata": {},
   "outputs": [],
   "source": [
    "# Dużo zmiennych... na początek spróbujmy z jedną\n",
    "l_pokoi = boston_nieruchomosci['data'][:, np.newaxis, 5]\n",
    "plt.scatter(l_pokoi, boston_nieruchomosci['target'])\n",
    "plt.show()"
   ]
  },
  {
   "cell_type": "code",
   "execution_count": null,
   "metadata": {},
   "outputs": [],
   "source": [
    "from sklearn.model_selection import train_test_split\n",
    "from sklearn.metrics import r2_score\n",
    "from sklearn.linear_model import LinearRegression\n",
    "\n",
    "# Stworzenie regresora liniowego\n",
    "linreg = LinearRegression()\n",
    "\n",
    "X_train, X_test, y_train, y_test = train_test_split(l_pokoi, boston_nieruchomosci['target'], test_size = 0.3)\n",
    "\n",
    "linreg.fit(X_train, y_train)\n",
    "\n",
    "# przewidywanie ceny\n",
    "y_pred = linreg.predict(X_test)\n",
    "\n",
    "# domyślna metryka\n",
    "print('Metryka domyślna: ', linreg.score(X_test, y_test))\n",
    "\n",
    "# wskaźnik (metryka) r^2\n",
    "# dokumentacja: https://scikit-learn.org/stable/modules/generated/sklearn.metrics.r2_score.html#sklearn.metrics.r2_score\n",
    "print('Metryka r2: ', r2_score(y_test, y_pred))\n",
    "\n",
    "# współczynniki regresji\n",
    "print('Współczynniki regresji:\\n', linreg.coef_)\n",
    "\n",
    "# Wykres regresji\n",
    "plt.scatter(X_test, y_test, color='black')\n",
    "plt.plot(X_test, y_pred, color='blue', linewidth=2)\n",
    "plt.show()"
   ]
  },
  {
   "cell_type": "code",
   "execution_count": null,
   "metadata": {},
   "outputs": [],
   "source": [
    "# dokumentacja: https://scikit-learn.org/stable/modules/generated/sklearn.model_selection.cross_val_score.html\n",
    "from sklearn.model_selection import cross_val_score\n",
    "\n",
    "cv_score_r2 = cross_val_score(linreg, l_pokoi, boston_nieruchomosci.target, cv=5, scoring='r2')\n",
    "print(cv_score_r2)\n",
    "\n",
    "# używamy innej metryki \n",
    "# dokumentacja:\n",
    "# https://scikit-learn.org/stable/modules/model_evaluation.html#scoring-parameter\n",
    "cv_score_ev = cross_val_score(linreg, l_pokoi, boston_nieruchomosci.target, cv=5, scoring='explained_variance')\n",
    "print(cv_score_ev)\n",
    "\n",
    "# ...i jeszcze innej\n",
    "cv_score_mse = cross_val_score(linreg, l_pokoi, boston_nieruchomosci.target, cv=5, scoring='neg_mean_squared_error')\n",
    "print(cv_score_mse)"
   ]
  },
  {
   "cell_type": "code",
   "execution_count": null,
   "metadata": {},
   "outputs": [],
   "source": [
    "# Zadanie 1\n",
    "# Wybierz inną cechę i spróbuj przewidzieć ceny mieszkań. Użyj walidacji krzyżowej.\n",
    "# Zadanie bonus: zaimportuj dane nt cukrzycy przy pomocy funkcji load_diabetes\n",
    "# Następnie przeanalizuj dane i zaproponuj regresor liniowy. Sprawdź jakość modelu za pomocą walidacji krzyżowej."
   ]
  }
 ],
 "metadata": {
  "kernelspec": {
   "display_name": "Python 3",
   "language": "python",
   "name": "python3"
  },
  "language_info": {
   "codemirror_mode": {
    "name": "ipython",
    "version": 3
   },
   "file_extension": ".py",
   "mimetype": "text/x-python",
   "name": "python",
   "nbconvert_exporter": "python",
   "pygments_lexer": "ipython3",
   "version": "3.7.5"
  }
 },
 "nbformat": 4,
 "nbformat_minor": 2
}
