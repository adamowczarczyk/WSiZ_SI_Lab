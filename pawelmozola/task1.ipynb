{
 "cells": [
  {
   "cell_type": "markdown",
   "metadata": {},
   "source": [
    "import pandas as pd\n",
    "import requests\n",
    "import matplotlib.pyplot as plt\n",
    "import numpy as np\n",
    "\n",
    "\n",
    "def load_currency(fromDate,toDate, currency):\n",
    "    currency_req = requests.get('http://api.nbp.pl/api/exchangerates/rates/A/' + currency +'/'+ fromDate+ '/' + toDate +'/')\n",
    "    currency_data = currency_req.json()\n",
    "    return currency_data['rates']\n",
    "\n",
    "USD = load_currency('2019-10-01', '2019-10-04', 'USD')\n",
    "EUR = load_currency('2019-10-01','2019-10-04', 'EUR')\n",
    "\n",
    "                \n",
    "USDRates = pd.DataFrame.from_dict(USD)\n",
    "EURRates = pd.DataFrame.from_dict(EUR)\n",
    "print(USDRates)\n",
    "print(EURRates)\n",
    "\n",
    "print(\"\\nUSD Rates:\")\n",
    "USDData = USDRates.set_index(['effectiveDate'])['mid']\n",
    "\n",
    "plt.plot(USDData)\n",
    "plt.show()\n",
    "\n",
    "\n",
    "print(\"\\nEUR Rates:\")\n",
    "EURData = EURRates.set_index(['effectiveDate'])['mid']\n",
    "\n",
    "plt.plot(EURData)\n",
    "plt.show()\n",
    "\n",
    "\n",
    "print(np.corrcoef(USDData ,EURData))\n",
    "\n"
   ]
  },
  {
   "cell_type": "code",
   "execution_count": null,
   "metadata": {},
   "outputs": [],
   "source": []
  }
 ],
 "metadata": {
  "kernelspec": {
   "display_name": "Python 3",
   "language": "python",
   "name": "python3"
  },
  "language_info": {
   "codemirror_mode": {
    "name": "ipython",
    "version": 3
   },
   "file_extension": ".py",
   "mimetype": "text/x-python",
   "name": "python",
   "nbconvert_exporter": "python",
   "pygments_lexer": "ipython3",
   "version": "3.7.3"
  }
 },
 "nbformat": 4,
 "nbformat_minor": 2
}
