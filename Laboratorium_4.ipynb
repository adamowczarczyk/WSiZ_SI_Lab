{
 "cells": [
  {
   "cell_type": "code",
   "execution_count": null,
   "metadata": {},
   "outputs": [],
   "source": [
    "from sklearn.cluster import KMeans\n",
    "from sklearn import datasets\n",
    "from sklearn.model_selection import train_test_split\n",
    "\n",
    "# Wczytaj przykładowy zbiór danych - dane dotyczące trzech gatunków Irysów\n",
    "iris = datasets.load_iris()\n",
    "\n",
    "# Podzielmy zbiór na cechy oraz etykiety - to już znamy\n",
    "# Dla uproszczenia wybieramy tylko cechę trzecią i czwartą, tj długość i szerokość płatków\n",
    "X = iris.data[:, [2, 3]]\n",
    "y = iris.target\n",
    "\n",
    "# Używamy funkcji do podzielenia zbioru na zbiór uczący i zbiór testowy\n",
    "X_train, X_test, y_train, y_test = train_test_split(X, y, test_size = 0.3)\n",
    "\n",
    "# Tworzymy klasyfikator z trzema klastrami (klasami)\n",
    "# Jak dotąd jest podobnie do Laboratorium 2\n",
    "kmn = KMeans(n_clusters=3)\n",
    "\n",
    "# Uczymy klasyfikator na danych treningowych\n",
    "# Pierwsza różnica - uczenie przebiega bez nadzoru\n",
    "# To znaczy nie pokazujemy klasyfikatorowi prawidłowych klas - gatunków kwiatów\n",
    "# Zgodnie z konfiguracją wcześniej - powiedzieliśmy tylko że chcemy w zbiorze znaleźć 3 klasy\n",
    "# Dokładny opis algorytmu: https://scikit-learn.org/stable/modules/clustering.html#k-means\n",
    "kmn.fit(X_train)"
   ]
  },
  {
   "cell_type": "code",
   "execution_count": null,
   "metadata": {},
   "outputs": [],
   "source": [
    "import matplotlib.pyplot as plt\n",
    "%matplotlib inline\n",
    "\n",
    "# Wyciągamy punkty centralne klastrów - pokażemy je na wykresie obok punktów ze zbioru uczącego\n",
    "centra = kmn.cluster_centers_\n",
    "\n",
    "fig, ax = plt.subplots(1, 2)\n",
    "# pierwszy wykres to nasz zbiór uczący, z prawdziwymi klasami\n",
    "ax[0].scatter(X_train[:, 0], X_train[:, 1], c=y_train, s=20)\n",
    "\n",
    "# Teraz używamy danych treningowych żeby sprawdzić co klasyfikator o nich myśli\n",
    "y_pred_train = kmn.predict(X_train)\n",
    "ax[1].scatter(X_train[:, 0], X_train[:, 1], c=y_pred_train, s=20)\n",
    "\n",
    "# Dokładamy na drugim wykresie centra klastrów\n",
    "ax[1].scatter(centra[:, 0], centra[:, 1], c='red', s=50)\n",
    "plt.show()\n",
    "\n",
    "# Różnice kolorów pomiędzy wykresami są nieistotne"
   ]
  },
  {
   "cell_type": "code",
   "execution_count": null,
   "metadata": {},
   "outputs": [],
   "source": [
    "import matplotlib.pyplot as plt\n",
    "%matplotlib inline\n",
    "\n",
    "# Próbujemy przewidzieć gatunki dla zbioru testowego\n",
    "y_pred = kmn.predict(X_test)\n",
    "\n",
    "# Nowe gatunki przewidziane przez klastrowanie\n",
    "plt.scatter(X_test[:, 0], X_test[:, 1], c=y_pred, s=20)\n",
    "\n",
    "# Tak jak powyżej, wyświetlamy centra klastrów\n",
    "plt.scatter(centra[:, 0], centra[:, 1], c='red', s=50)\n",
    "plt.show()"
   ]
  },
  {
   "cell_type": "code",
   "execution_count": null,
   "metadata": {},
   "outputs": [],
   "source": [
    "# Zadanie 1\n",
    "# Poniżej przy pomocy funkcji fetch_openml można zaimportować zbiór danych o samochodach\n",
    "# Zapoznaj się ze zbiorem danych (zwizualizuj wybrane przez siebie cechy) a następnie podziel go na zbiór uczący i testowy\n",
    "# Wytrenuj klasyfikator KMeans z zadaną przez siebie liczbą klas i zwizualizuj wyniki predykcji na zbiorze testowym\n",
    "\n",
    "# Zadanie 2\n",
    "# Opisz własnymi słowami, jakie klasy samochodów wg Ciebie znalazły się w zbiorze\n",
    "\n",
    "\n",
    "from sklearn.datasets import fetch_openml\n",
    "\n",
    "samochody = fetch_openml('cars1')"
   ]
  },
  {
   "cell_type": "code",
   "execution_count": null,
   "metadata": {},
   "outputs": [],
   "source": [
    "samochody.keys()"
   ]
  },
  {
   "cell_type": "code",
   "execution_count": null,
   "metadata": {},
   "outputs": [],
   "source": [
    "# Ściąga: Konwersja typów dla y\n",
    "\n",
    "y = samochody['target']\n",
    "y = [int(elem) for elem in y]\n",
    "y[:5]"
   ]
  }
 ],
 "metadata": {
  "kernelspec": {
   "display_name": "Python 3",
   "language": "python",
   "name": "python3"
  },
  "language_info": {
   "codemirror_mode": {
    "name": "ipython",
    "version": 3
   },
   "file_extension": ".py",
   "mimetype": "text/x-python",
   "name": "python",
   "nbconvert_exporter": "python",
   "pygments_lexer": "ipython3",
   "version": "3.7.5"
  }
 },
 "nbformat": 4,
 "nbformat_minor": 2
}
