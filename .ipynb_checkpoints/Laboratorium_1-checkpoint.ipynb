{
 "cells": [
  {
   "cell_type": "code",
   "execution_count": null,
   "metadata": {},
   "outputs": [],
   "source": [
    "# Tak wygląda komentarz w Pythonie\n",
    "\n",
    "# Deklaracja zmiennej typu lista\n",
    "\n",
    "lista1 = list()\n",
    "\n",
    "# Inny sposób tworzenia listy\n",
    "\n",
    "lista2 = []\n",
    "\n",
    "# Dodawanie elementów\n",
    "\n",
    "lista2.append(1)\n",
    "lista2.append(2)\n",
    "lista2.append(3)\n",
    "\n",
    "# Iteracja\n",
    "\n",
    "for elem in lista2:\n",
    "    print(elem)\n",
    "\n",
    "    \n",
    "# Wybór podzbioru elementów\n",
    "\n",
    "print(lista2[:1])\n",
    "print(lista2[-2:])"
   ]
  },
  {
   "cell_type": "code",
   "execution_count": null,
   "metadata": {},
   "outputs": [],
   "source": [
    "# Tworzenie funkcji\n",
    "\n",
    "def funkcja_przykladowa(a, b):\n",
    "    return a+b\n",
    "\n",
    "# Użycie przykładowe\n",
    "print(funkcja_przykladowa(2, 3))"
   ]
  },
  {
   "cell_type": "code",
   "execution_count": null,
   "metadata": {},
   "outputs": [],
   "source": [
    "# Importowanie modułów, aliasowanie, używanie funkcji z modułu\n",
    "\n",
    "import numpy as np\n",
    "\n",
    "lista_dla_numpy = [1, 2, 5, 10, 17]\n",
    "print(np.mean(lista_dla_numpy))\n",
    "print(np.median(lista_dla_numpy))"
   ]
  },
  {
   "cell_type": "code",
   "execution_count": null,
   "metadata": {},
   "outputs": [],
   "source": [
    "# Wczytywanie danych\n",
    "\n",
    "import pandas as pd\n",
    "\n",
    "# Dwie metody wczytania bezpośrednio z pandas\n",
    "# pd.read_csv('./archiwum_tab_a_2019.csv')\n",
    "# pd.read_json('http://api.nbp.pl/api/exchangerates/rates/A/USD/2019-09-01/2019-09-30/')\n",
    "\n",
    "import requests\n",
    "\n",
    "currency_req = requests.get('http://api.nbp.pl/api/exchangerates/rates/A/USD/2019-09-01/2019-09-30/')\n",
    "\n",
    "currency_data = currency_req.json()\n",
    "currency_data['rates']"
   ]
  },
  {
   "cell_type": "code",
   "execution_count": null,
   "metadata": {},
   "outputs": [],
   "source": [
    "kursy_usd_wrzesien = pd.DataFrame.from_dict(currency_data['rates'])\n",
    "kursy_usd_wrzesien.head()\n",
    "\n",
    "# inne użyteczne polecenia do badania DataFrame: info, describe, value_counts"
   ]
  },
  {
   "cell_type": "code",
   "execution_count": null,
   "metadata": {},
   "outputs": [],
   "source": [
    "# Wykresy\n",
    "\n",
    "import matplotlib.pyplot as plt\n",
    "\n",
    "dane_wykres = kursy_usd_wrzesien.set_index(['effectiveDate'])['mid']\n",
    "\n",
    "plt.plot(dane_wykres)\n",
    "plt.show()"
   ]
  },
  {
   "cell_type": "code",
   "execution_count": null,
   "metadata": {},
   "outputs": [],
   "source": [
    "# Zadanie 1\n",
    "# 1. Napisz funkcję do wczytywania waluty nbp z zadanego okresu (wszystko przekazywane jako parametr)\n",
    "#    dowolny ze sposobów (plik csv, read_json, dowolne inne)\n",
    "# 2. Używając stworzonej funkcji wczytaj dane dwóch wybranych przez siebie kursów\n",
    "# 3. Zbadaj wczytane dane za pomocą wybranych poleceń, oczyść jeżeli to konieczne i ustaw indeksy na datę.\n",
    "#    Plus za konwersję do typu data/czas\n",
    "# 4. Użyj funkcji corrcoef z pakietu numpy żeby obliczyć wzajemną korelację wybranych kursów\n",
    "# 5. Zweryfikuj związek z punktu wyżej rysując wykresy obydwu wybranych przez siebie walut\n",
    "#    Plus za wykorzystanie funkcji plt.subplot()"
   ]
  },
  {
   "cell_type": "code",
   "execution_count": null,
   "metadata": {},
   "outputs": [],
   "source": [
    "# Dodatek:\n",
    "# Wyrażenia lambda\n",
    "\n",
    "def prosta_funkcja(x):\n",
    "    return x+1\n",
    "\n",
    "prosta_funkcja_2 = lambda x: x+1\n",
    "\n",
    "print(prosta_funkcja(7))\n",
    "print(prosta_funkcja_2(7))\n",
    "\n",
    "# Obiekty map, filter, reduce\n",
    "\n",
    "a = map(lambda x: x+1, lista_dla_numpy)\n",
    "print(list(a))\n",
    "b = filter(lambda x: x>7, lista_dla_numpy)\n",
    "print(list(b))\n",
    "\n",
    "from functools import reduce\n",
    "\n",
    "c = reduce(lambda x, y: x+y, lista_dla_numpy)\n",
    "print(c)"
   ]
  },
  {
   "cell_type": "code",
   "execution_count": null,
   "metadata": {},
   "outputs": [],
   "source": [
    "# Dodatek 2:\n",
    "# Prosta regresja liniowa\n",
    "\n",
    "x = np.arange(len(dane_wykres), dtype=int)\n",
    "a, b = np.polyfit(x, dane_wykres, 1)\n",
    "\n",
    "# matematyka, szkoła średnia\n",
    "y = a*x+b\n",
    "\n",
    "plt.plot(x, y)\n",
    "plt.plot(dane_wykres)\n",
    "plt.show()"
   ]
  }
 ],
 "metadata": {
  "kernelspec": {
   "display_name": "Python 3",
   "language": "python",
   "name": "python3"
  },
  "language_info": {
   "codemirror_mode": {
    "name": "ipython",
    "version": 3
   },
   "file_extension": ".py",
   "mimetype": "text/x-python",
   "name": "python",
   "nbconvert_exporter": "python",
   "pygments_lexer": "ipython3",
   "version": "3.7.3"
  }
 },
 "nbformat": 4,
 "nbformat_minor": 2
}
