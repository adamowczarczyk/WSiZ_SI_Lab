{
 "cells": [
  {
   "cell_type": "code",
   "execution_count": null,
   "metadata": {},
   "outputs": [],
   "source": [
    "from sklearn.decomposition import PCA\n",
    "from sklearn import datasets\n",
    "\n",
    "# Wczytaj przykładowy zbiór danych - dane dotyczące trzech gatunków Irysów\n",
    "iris = datasets.load_iris()\n",
    "\n",
    "# Podzielmy zbiór na cechy oraz etykiety\n",
    "# Zostawiamy tym razem wszystkie cechy - będziemy próbować odgadnąć które cechy są najważniejsze\n",
    "X = iris.data\n",
    "y = iris.target\n",
    "\n",
    "# Inicjalizacja. Można od razu wypełnić n_components, wykorzystujemy wszystkie cechy \n",
    "# pca = PCA(n_components=3)\n",
    "\n",
    "pca = PCA()\n",
    "pca.fit(X)\n",
    "\n",
    "# Analiza (dekompozycja) PCA tworzy nam n nowych \"sztucznych\" cech, które starają się jak najlepiej \n",
    "# odzwierciedlić zmienność oryginalnego zbioru\n",
    "print(\"Liczba komponentów: \", pca.n_components_)\n",
    "\n",
    "# Dodatkowo możemy sprawdzić jaki wpływ nasze oryginalne cechy mają na wywnioskowane, nowe cechy\n",
    "print(\"Skład nowych cech:\")\n",
    "print(pca.components_)\n",
    "\n",
    "# Na koniec możemy określić które nowe, wywnioskowane cechy mają największy wpływ na ogólną zmienność zbioru\n",
    "print(pca.explained_variance_ratio_)\n"
   ]
  },
  {
   "cell_type": "code",
   "execution_count": null,
   "metadata": {},
   "outputs": [],
   "source": [
    "# Jedna *nowa* cecha tłumaczy prawie wszystko? Sprawdźmy!\n",
    "# Czy potrafisz określić kierunki największej zmienności danych?\n",
    "\n",
    "import matplotlib.pyplot as plt\n",
    "import pandas as pd\n",
    "import numpy as np\n",
    "%matplotlib inline\n",
    "\n",
    "# wykresy będą tworzone przy pomocy pakietu seaborn\n",
    "import seaborn as sns\n",
    "\n",
    "# konwersja na obiekt pandas.DataFrame\n",
    "iris_df = pd.DataFrame(iris['data'], columns=iris['feature_names'])\n",
    "\n",
    "# funkcja która nam zamieni wartości 0, 1, 2 na pełny opis tekstowy dla gatunku\n",
    "targets = map(lambda x: iris['target_names'][x], iris['target'] )\n",
    "\n",
    "# doklejenie informacji o gatunku do reszty dataframe\n",
    "iris_df['species'] = np.array(list(targets))\n",
    "\n",
    "# wykres\n",
    "sns.pairplot(iris_df, hue='species')\n",
    "plt.show()"
   ]
  },
  {
   "cell_type": "code",
   "execution_count": null,
   "metadata": {},
   "outputs": [],
   "source": [
    "# Spróbujmy zredukować nasz zbiór cech do tej jednej, najlepszej\n",
    "\n",
    "pca_limit = PCA(n_components = 1)\n",
    "\n",
    "X_new = pca_limit.fit_transform(X)\n",
    "\n",
    "# Cechy:\n",
    "print(\"Liczba komponentów: \", print(pca_limit.n_components_))\n",
    "\n",
    "# Wpływ oryginalnych cech na wywnioskowaną cechę\n",
    "print(\"Skład nowej cechy:\")\n",
    "print(pca_limit.components_)\n",
    "\n",
    "# \"Wytłumaczalność\" nowej cechy dalej jest bardzo wysoka\n",
    "print(pca_limit.explained_variance_ratio_)"
   ]
  },
  {
   "cell_type": "code",
   "execution_count": null,
   "metadata": {},
   "outputs": [],
   "source": [
    "# Po użyciu funkcji transform (lub fit_transform) dekompozycja pozostawiła nam tylko liczbę cech, którą skonfigurowaliśmy\n",
    "# Dodatkowo została od nich odjęta średnia, więc dane zawierają tylko wariancję\n",
    "\n",
    "X_new[:5]"
   ]
  },
  {
   "cell_type": "code",
   "execution_count": null,
   "metadata": {},
   "outputs": [],
   "source": [
    "plt.scatter(X_new, y)\n",
    "plt.show()"
   ]
  },
  {
   "cell_type": "code",
   "execution_count": null,
   "metadata": {},
   "outputs": [],
   "source": [
    "# Zadanie 1:\n",
    "# Wyjaśnij w kilku zdaniach jaka cecha została wywnioskowana przez PCA i co ona intuicyjnie mogłaby oznaczać\n",
    "# Zadanie bonus: przeprowadź dekompozycję PCA na wybranym przez siebie innym zbiorze danych"
   ]
  }
 ],
 "metadata": {
  "kernelspec": {
   "display_name": "Python 3",
   "language": "python",
   "name": "python3"
  },
  "language_info": {
   "codemirror_mode": {
    "name": "ipython",
    "version": 3
   },
   "file_extension": ".py",
   "mimetype": "text/x-python",
   "name": "python",
   "nbconvert_exporter": "python",
   "pygments_lexer": "ipython3",
   "version": "3.7.5"
  }
 },
 "nbformat": 4,
 "nbformat_minor": 2
}
